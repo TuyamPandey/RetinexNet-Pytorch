{
 "cells": [
  {
   "cell_type": "code",
   "execution_count": 2,
   "metadata": {},
   "outputs": [],
   "source": [
    "from __future__ import print_function\n",
    "import os\n",
    "import argparse\n",
    "from glob import glob\n",
    "\n",
    "from PIL import Image\n",
    "\n",
    "import torch\n",
    "import torch.nn as nn\n",
    "import torchvision\n",
    "import torchvision.transforms as transforms"
   ]
  },
  {
   "cell_type": "code",
   "execution_count": 4,
   "metadata": {},
   "outputs": [],
   "source": [
    "from utils import *"
   ]
  },
  {
   "cell_type": "code",
   "execution_count": 19,
   "metadata": {},
   "outputs": [],
   "source": [
    "use_gpu = 1\n",
    "gpu_idx = \"0\"\n",
    "gpu_mem = 0.5\n",
    "phase = 'train'\n",
    "epoch = 100\n",
    "batch_size = 16\n",
    "patch_size = 48\n",
    "start_lr = 0.001\n",
    "eval_every_epoch = 20\n",
    "checkpoint_dir = './checkpoint'\n",
    "sample_dir = './sample'\n",
    "save_dir = './test_results'\n",
    "test_dir = './data/test/low'\n",
    "decom = 0"
   ]
  },
  {
   "cell_type": "code",
   "execution_count": 32,
   "metadata": {},
   "outputs": [],
   "source": [
    "def lowlight_train(lowlight_enhance):\n",
    "    if not os.path.exists(checkpoint_dir):\n",
    "        os.makedirs(checkpoint_dir)\n",
    "    if not os.path.exists(sample_dir):\n",
    "        os.makedirs(sample_dir)\n",
    "    \n",
    "    lr = start_lr * np.ones(epoch)\n",
    "    lr[20:] = lr[0]/10.0\n",
    "\n",
    "    train_low_data = []\n",
    "    train_high_data = []\n",
    "\n",
    "    train_low_data_names = glob('./data/our485/low/*.png') + glob('.data/syn/low/*.png')\n",
    "    train_low_data_names.sort()\n",
    "    train_high_data_names = glob('./data/our485/high/*.png') + glob('.data/syn/high/*.png')\n",
    "    train_high_data_names.sort()\n",
    "\n",
    "    assert len(train_low_data_names) == len(train_high_data_names)\n",
    "    print('[*] Number of training data: %d' % len(train_low_data_names))\n",
    "\n",
    "    for idx in range(len(train_low_data_names)):\n",
    "        low_im = load_images(train_low_data_names[idx])\n",
    "        train_low_data.append(low_im)\n",
    "        high_im = load_images(train_high_data_names[idx])\n",
    "        train_high_data.append(high_im)\n",
    "\n",
    "    eval_low_data = []\n",
    "    eval_high_data = []\n",
    "\n",
    "    eval_low_data_name = glob('./data/eval/low/*.*')\n",
    "\n",
    "    for idx in range(len(eval_low_data_name)):\n",
    "        eval_low_im = load_images(eval_low_data_name[idx])\n",
    "        eval_low_data.append(eval_low_im)\n",
    "    \n",
    "    \n",
    "\n",
    "    "
   ]
  }
 ],
 "metadata": {
  "kernelspec": {
   "display_name": "myenv",
   "language": "python",
   "name": "python3"
  },
  "language_info": {
   "codemirror_mode": {
    "name": "ipython",
    "version": 3
   },
   "file_extension": ".py",
   "mimetype": "text/x-python",
   "name": "python",
   "nbconvert_exporter": "python",
   "pygments_lexer": "ipython3",
   "version": "3.8.19"
  }
 },
 "nbformat": 4,
 "nbformat_minor": 2
}
