{
 "cells": [
  {
   "cell_type": "code",
   "execution_count": 1,
   "metadata": {},
   "outputs": [],
   "source": [
    "from __future__ import print_function\n",
    "import os\n",
    "import argparse\n",
    "from glob import glob\n",
    "\n",
    "from PIL import Image\n",
    "\n",
    "import torch\n",
    "import torch.nn as nn\n",
    "import torchvision\n",
    "import torchvision.transforms as transforms"
   ]
  },
  {
   "cell_type": "code",
   "execution_count": 4,
   "metadata": {},
   "outputs": [],
   "source": [
    "from utils import *\n",
    "from model import LowlightEnhance"
   ]
  },
  {
   "cell_type": "code",
   "execution_count": 5,
   "metadata": {},
   "outputs": [],
   "source": [
    "parser = argparse.ArgumentParser(description='')\n",
    "\n",
    "parser.add_argument('--use_gpu', dest='use_gpu', type=int, default=1, help='gpu flag, 1 for GPU and 0 for CPU')\n",
    "parser.add_argument('--gpu_idx', dest='gpu_idx', default=\"0\", help='GPU idx')\n",
    "parser.add_argument('--gpu_mem', dest='gpu_mem', type=float, default=0.5, help=\"0 to 1, gpu memory usage\")\n",
    "parser.add_argument('--phase', dest='phase', default='train', help='train or test')\n",
    "\n",
    "parser.add_argument('--epoch', dest='epoch', type=int, default=100, help='number of total epoches')\n",
    "parser.add_argument('--batch_size', dest='batch_size', type=int, default=16, help='number of samples in one batch')\n",
    "parser.add_argument('--patch_size', dest='patch_size', type=int, default=48, help='patch size')\n",
    "parser.add_argument('--start_lr', dest='start_lr', type=float, default=0.001, help='initial learning rate for adam')\n",
    "parser.add_argument('--eval_every_epoch', dest='eval_every_epoch', default=20, help='evaluating and saving checkpoints every #  epoch')\n",
    "parser.add_argument('--checkpoint_dir', dest='ckpt_dir', default='./checkpoint', help='directory for checkpoints')\n",
    "parser.add_argument('--sample_dir', dest='sample_dir', default='./sample', help='directory for evaluating outputs')\n",
    "\n",
    "parser.add_argument('--save_dir', dest='save_dir', default='./test_results', help='directory for testing outputs')\n",
    "parser.add_argument('--test_dir', dest='test_dir', default='./data/test/low', help='directory for testing inputs')\n",
    "parser.add_argument('--decom', dest='decom', default=0, help='decom flag, 0 for enhanced results only and 1 for decomposition results')\n",
    "\n",
    "args = parser.parse_args()"
   ]
  },
  {
   "cell_type": "code",
   "execution_count": 3,
   "metadata": {},
   "outputs": [],
   "source": [
    "def lowlight_train(lowlight_enhance):\n",
    "    if not os.path.exists(checkpoint_dir):\n",
    "        os.makedirs(checkpoint_dir)\n",
    "    if not os.path.exists(sample_dir):\n",
    "        os.makedirs(sample_dir)\n",
    "    \n",
    "    lr = start_lr * np.ones(epoch)\n",
    "    lr[20:] = lr[0]/10.0\n",
    "\n",
    "    train_low_data = []\n",
    "    train_high_data = []\n",
    "\n",
    "    train_low_data_names = glob('./data/our485/low/*.png') + glob('.data/syn/low/*.png')\n",
    "    train_low_data_names.sort()\n",
    "    train_high_data_names = glob('./data/our485/high/*.png') + glob('.data/syn/high/*.png')\n",
    "    train_high_data_names.sort()\n",
    "\n",
    "    assert len(train_low_data_names) == len(train_high_data_names)\n",
    "    print('[*] Number of training data: %d' % len(train_low_data_names))\n",
    "\n",
    "    for idx in range(len(train_low_data_names)):\n",
    "        low_im = load_images(train_low_data_names[idx])\n",
    "        train_low_data.append(low_im)\n",
    "        high_im = load_images(train_high_data_names[idx])\n",
    "        train_high_data.append(high_im)\n",
    "\n",
    "    eval_low_data = []\n",
    "    eval_high_data = []\n",
    "\n",
    "    eval_low_data_name = glob('./data/eval/low/*.*')\n",
    "\n",
    "    for idx in range(len(eval_low_data_name)):\n",
    "        eval_low_im = load_images(eval_low_data_name[idx])\n",
    "        eval_low_data.append(eval_low_im)\n",
    "    \n",
    "    lowlight_enhance.train(train_low_data, train_high_data, eval_low_data, batch_size=batch_size, patch_size=patch_size, epoch=epoch, lr=lr, sample_dir=sample_dir, ckpt_dir=os.path.join(ckpt_dir, 'Decom'), eval_every_epoch=eval_every_epoch, train_phase=\"Decom\")\n",
    "\n",
    "    lowlight_enhance.train(train_low_data, train_high_data, eval_low_data, batch_size=batch_size, patch_size=patch_size, epoch=epoch, lr=lr, sample_dir=sample_dir, ckpt_dir=os.path.join(ckpt_dir, 'Relight'), eval_every_epoch=eval_every_epoch, train_phase=\"Relight\")\n",
    "\n",
    "    "
   ]
  },
  {
   "cell_type": "code",
   "execution_count": null,
   "metadata": {},
   "outputs": [],
   "source": []
  }
 ],
 "metadata": {
  "kernelspec": {
   "display_name": "myenv",
   "language": "python",
   "name": "python3"
  },
  "language_info": {
   "codemirror_mode": {
    "name": "ipython",
    "version": 3
   },
   "file_extension": ".py",
   "mimetype": "text/x-python",
   "name": "python",
   "nbconvert_exporter": "python",
   "pygments_lexer": "ipython3",
   "version": "3.8.19"
  }
 },
 "nbformat": 4,
 "nbformat_minor": 2
}
